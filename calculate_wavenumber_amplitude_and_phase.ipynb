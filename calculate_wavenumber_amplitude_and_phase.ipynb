{
 "cells": [
  {
   "cell_type": "markdown",
   "metadata": {},
   "source": [
    "# Jupyter notebook to calculate the timeseries of Amplitude and Phase used in the GRL paper: \"Heat extremes driven by amplification of phase-locked circumglobal waves forced by topography in an idealized atmospheric model\" by B. Jimenez-Esteve, K. Kornhuber and D. I.V. Domeisen\n",
    "\n",
    "Author: Bernat Jimenez-Esteve (ETH Zurich) Last update: October 2022\n",
    "\n",
    "The notebook blocks need to be executed sequencially.\n",
    "\n",
    "The netCDF files containing the daily model output can be must be downloaded from the following repository: \n"
   ]
  },
  {
   "cell_type": "code",
   "execution_count": 14,
   "metadata": {},
   "outputs": [],
   "source": [
    "#load main modeules\n",
    "import xarray as xr\n",
    "import numpy as np\n",
    "import matplotlib.pyplot as plt"
   ]
  },
  {
   "cell_type": "code",
   "execution_count": 2,
   "metadata": {},
   "outputs": [],
   "source": [
    "#choose lat band\n",
    "lat_band = slice(60,30)"
   ]
  },
  {
   "cell_type": "markdown",
   "metadata": {},
   "source": [
    "### Model data"
   ]
  },
  {
   "cell_type": "code",
   "execution_count": 3,
   "metadata": {},
   "outputs": [],
   "source": [
    "#Read ICON data\n",
    "f = 'data/daily/u300_v300_z300_t1000_heldsuarez_notopo_daymean.nc'\n",
    "v_hs =  xr.open_dataset(f).v300.sel(lat=lat_band,time=slice('0001-01-01', '0030-12-30')).mean('lat').load()"
   ]
  },
  {
   "cell_type": "markdown",
   "metadata": {},
   "source": [
    "## 1. Apply a 7-days running mean (weekly values)"
   ]
  },
  {
   "cell_type": "code",
   "execution_count": 9,
   "metadata": {},
   "outputs": [],
   "source": [
    "#apply a 7-day running mean to get rid of synoptic scale eddies\n",
    "v_7d = v_hs.rolling(time=7, center=True).mean().dropna('time')"
   ]
  },
  {
   "cell_type": "markdown",
   "metadata": {},
   "source": [
    "## 2. Fast-Fourier Transform (FFT)"
   ]
  },
  {
   "cell_type": "code",
   "execution_count": 10,
   "metadata": {},
   "outputs": [],
   "source": [
    "from scipy.fft import fft, rfft\n",
    "\n",
    "#Fast fourier transform\n",
    "ffty = rfft(v_7d.values,axis=-1)\n",
    "\n",
    "#amplitude and phase calculation for different wave numbers\n",
    "N=len(v_7d[0,:]) #number of longitude points\n",
    "amp_cal = 2.0/N * np.abs(ffty[:,0:N//2])\n",
    "phase_cal = (-1) * np.arctan2(np.imag(ffty[:,0:N//2]),np.real(ffty[:,0:N//2]))"
   ]
  },
  {
   "cell_type": "code",
   "execution_count": 11,
   "metadata": {},
   "outputs": [],
   "source": [
    "#we create an x_array with coordinates (time,lat,wavenumber) \n",
    "k =np.arange(0,11,1) #we only keep the first 10 wavenumbers\n",
    "\n",
    "#this array contains the amplitude for different wavenumbers at different times and latitudes\n",
    "amplitudes = xr.DataArray(coords=[v_7d.time, k],\n",
    "                           dims=['time', 'wavenumber'],\n",
    "                          data= amp_cal[:,0:11] ) \n",
    "\n",
    "phases = xr.DataArray(coords=[v_7d.time, k],\n",
    "                           dims=['time', 'wavenumber'],\n",
    "                          data= phase_cal[:,0:11] ) "
   ]
  },
  {
   "cell_type": "markdown",
   "metadata": {},
   "source": [
    "## 3. Save file"
   ]
  },
  {
   "cell_type": "code",
   "execution_count": 38,
   "metadata": {},
   "outputs": [],
   "source": [
    "#save this in a file\n",
    "dir=\"/data/test.nc\"\n",
    "ds =  xr.Dataset(coords=amplitudes.coords)\n",
    "\n",
    "#add the new data\n",
    "ds = ds.assign(amplitudes  = amplitudes)\n",
    "ds = ds.assign(phases  = phases)\n",
    "ds.to_netcdf(dir)"
   ]
  }
 ],
 "metadata": {
  "kernelspec": {
   "display_name": "Python 3",
   "language": "python",
   "name": "python3"
  },
  "language_info": {
   "codemirror_mode": {
    "name": "ipython",
    "version": 3
   },
   "file_extension": ".py",
   "mimetype": "text/x-python",
   "name": "python",
   "nbconvert_exporter": "python",
   "pygments_lexer": "ipython3",
   "version": "3.8.5"
  }
 },
 "nbformat": 4,
 "nbformat_minor": 4
}
